{
 "cells": [
  {
   "cell_type": "code",
   "execution_count": 1,
   "metadata": {
    "collapsed": true
   },
   "outputs": [],
   "source": [
    "import re\n",
    "from glob import glob\n",
    "import os\n",
    "from os import listdir\n",
    "from os.path import isfile, join"
   ]
  },
  {
   "cell_type": "markdown",
   "metadata": {},
   "source": [
    "# PDF to txt"
   ]
  },
  {
   "cell_type": "markdown",
   "metadata": {},
   "source": [
    "# Define Function: PDF_to_txt"
   ]
  },
  {
   "cell_type": "code",
   "execution_count": 2,
   "metadata": {
    "collapsed": true
   },
   "outputs": [],
   "source": [
    "import io\n",
    "\n",
    "from pdfminer.pdfinterp import PDFResourceManager, PDFPageInterpreter\n",
    "from pdfminer.converter import TextConverter\n",
    "from pdfminer.layout import LAParams\n",
    "from pdfminer.pdfpage import PDFPage\n",
    "\n",
    "\n",
    "def convert_pdf_to_txt(path):\n",
    "    rsrcmgr = PDFResourceManager()\n",
    "    retstr = io.StringIO()\n",
    "    codec = 'utf-8'\n",
    "    laparams = LAParams()\n",
    "    device = TextConverter(rsrcmgr, retstr, codec=codec, laparams=laparams)\n",
    "    fp = open(path, 'rb')\n",
    "    interpreter = PDFPageInterpreter(rsrcmgr, device)\n",
    "    password = \"\"\n",
    "    maxpages = 0\n",
    "    caching = True\n",
    "    pagenos = set()\n",
    "    for page in PDFPage.get_pages(fp, pagenos, maxpages=maxpages,\n",
    "                                  password=password,\n",
    "                                  caching=caching,\n",
    "                                  check_extractable=True):\n",
    "        interpreter.process_page(page)\n",
    "\n",
    "    text = retstr.getvalue()\n",
    "\n",
    "    fp.close()\n",
    "    device.close()\n",
    "    retstr.close()\n",
    "    return text"
   ]
  },
  {
   "cell_type": "code",
   "execution_count": 3,
   "metadata": {
    "collapsed": true
   },
   "outputs": [],
   "source": [
    "directory = r\"C:\\Users\\gisel\\Desktop\\UN Project\\Training data\\PDF\"\n",
    "categoryList = os.listdir(directory)\n",
    "outputTXTdirectory = r\"C:\\Users\\gisel\\Desktop\\UN Project\\Training data\\TXT\""
   ]
  },
  {
   "cell_type": "code",
   "execution_count": 4,
   "metadata": {},
   "outputs": [
    {
     "data": {
      "text/plain": [
       "['CAPACITY BUILDING',\n",
       " 'CHILD ONLINE PROTECTION',\n",
       " 'COOPERATION',\n",
       " 'LEGAL MEASURES',\n",
       " 'ORGANIZATION MEASURES',\n",
       " 'TECHNICAL MEASURES']"
      ]
     },
     "execution_count": 4,
     "metadata": {},
     "output_type": "execute_result"
    }
   ],
   "source": [
    "categoryList"
   ]
  },
  {
   "cell_type": "code",
   "execution_count": 8,
   "metadata": {},
   "outputs": [
    {
     "name": "stdout",
     "output_type": "stream",
     "text": [
      "1 1 10507\n",
      "1 2 17ACT_CyberGuide\n",
      "1 3 cyberpolicy\n",
      "1 4 Cybersecurity-EU agency and certification framework.en\n",
      "1 5 FINAL_written_statement_for_ IT_ hearing_February_26_edit_v2\n",
      "1 1 A Human Capital Crisis in Cybersecurity\n",
      "1 2 cybersecurity_workforce_development_toolkit\n",
      "1 3 cyber_games-_building_future_workforce_final_1031a_lr\n",
      "1 4 DRM-2016-U-013905-Final\n",
      "1 5 Federal Efforts Are Under\n",
      "1 6 NIST.SP.800-181\n",
      "1 7 RAND_RR430\n",
      "1 8 Strategic Recruitment for Cybersecurity Model July 2017\n",
      "1 9 untitled\n",
      "1 1 4471_security_certifications\n",
      "1 2 Cybersecurity-Professional_bro_Eng_0415\n",
      "1 3 ESG-ISSA-Research-Report-Lif\n",
      "1 4 IETEducationTraining\n",
      "1 5 JISEv28n2p101\n",
      "1 6 Professionalizing-Cybersecurity\n",
      "1 7 SGS_TUEV_Training_Cyber_Security_EN_0617\n",
      "1 8 veterans_guide_trackDocs=veterans_guide\n",
      "1 1 cybersecurity policy making\n",
      "1 2 Ikonoumou_ENISA\n",
      "1 3 InternationalCyberNorms_Ch11\n",
      "1 4 Stan_Johnson_NERC_Cyber_Security_Standards\n",
      "2 1 A Crazy Cyber World Construction of a Composite Index for Measuring Child Online Protection\n",
      "2 2 GUIDELINES FOR INDUSTRY ON CHILD ONLINE PROTECTION\n",
      "2 1 A POLICY BRIEF CHILD ONLINE PROTECTION IN GHANA\n",
      "2 2 Mapping Online Child Safety in Asia-Pacific\n",
      "2 1 Inquiry into Cyber Safety Issues Affecting Children and Young People\n",
      "2 2 The Protection of Children Online\n",
      "2 1 Guidelines for Children on Child Online Protection\n",
      "3 1 Cyber Threats and International Cooperation\n",
      "3 2 International Strategy on Cybersecurity Cooperation\n",
      "3 3 international_strategy_for_cyberspace\n",
      "3 1 Inter-Agency Cooperation - Defense Technical Information Center\n",
      "3 2 Interagency Cooperation on Cyber Security\n",
      "3 1 A Theory of Interstate Security Cooperation Applied to German-American Relations\n",
      "3 2 Cyber_Workshop_Rapporteur_Note_4-14\n",
      "3 1 Cybersecurity in the Health Care Sector_Strengthening Public-Private Partnerships\n",
      "3 2 Cybersecurity Public Private Partnerships - American Bar Association\n",
      "3 3 Improving our Nation's Cybersecurity through the Public-Private Partnership\n",
      "3 4 Public-private partnerships in national cyber-security strategies\n",
      "3 5 Public-Private Partnerships_Essential for National Cyber Security\n",
      "4 1 Cybercrime legislation EV6\n",
      "4 2 Legal Aspects of Cybersecurity\n",
      "4 3 Prosecuting Computer Crimes - Department of Justice\n",
      "4 1 Financial Sector’s Cybersecurity_A Regulatory Digest\n",
      "4 2 New-Yorks-Cybersecurity-Regulations-for-Financial-Insitutions-and-Health-Care_Bloomberg-Law1\n",
      "4 3 regulatory compliance and cybersecurity\n",
      "5 1 BENCHMARKING ESTONIA’S CYBER SECURITY_AN ON-RAMPING METHODOLOGY FOR RAPID ADOPTION AND IMPLEMENTATION\n",
      "5 2 ENISA Guidebook on National Cyber Security Strategies\n",
      "5 3 Samoa National Cybersecurity Strategy 2016\n",
      "5 4 The UK cyber security strategy - National Audit Office\n",
      "5 1 Cyber Security Planning Guide - Homeland Security\n",
      "5 2 Cybersecurity Policy Making at a Turning Point\n",
      "5 3 cybersecurity policy\n",
      "5 4 Information Technology Cyber Security Policy\n",
      "5 1 CYBERSECURITY_DIVISION OF RESPONSIBILITY IN THE U.S. GOVERNMENT\n",
      "5 2 Leadership and Responsibility for Cybersecurity\n",
      "5 3 United States Government Cybersecurity Relationships\n",
      "5 4 Who Should Lead U.S. Cybersecurity Efforts\n",
      "5 1 Cyber Security Governance\n",
      "5 2 Draft NIST Roadmap for Improving Critical Infrastructure Cybersecurity\n",
      "5 3 Governance of Cybersecurity_2015 Report\n",
      "5 4 The Definitive Cybersecurity Guide for Directors and Officers\n",
      "6 1 A practical guide to IT security\n",
      "6 2 A Summary of Cybersecurity Best Practices - Homeland Security\n",
      "6 3 Minimum security measures\n",
      "6 1 Cybersecurity for Critical Infrastructure_ Attack and Defense Modeling\n",
      "6 2 EXAMINING THE CYBER THREAT TO CRITICAL INFRASTRUCTURE AND THE AMERICAN ECONOMY\n",
      "6 3 Italian Cyber Security Report Critical Infrastructure and Other Sensitive Sectors Readiness\n",
      "6 1 10 Basic Cybersecurity Measures Best Practices to Reduce Exploitable Weaknesses and Attacks\n",
      "6 2 Cyber Security Standards\n"
     ]
    }
   ],
   "source": [
    "category_num = 0\n",
    "for category in categoryList:\n",
    "    category_path = glob(directory+\"\\\\\" +category)\n",
    "    subcategories = os.listdir(directory+\"\\\\\" +category)\n",
    "    category_num +=1\n",
    "    for subcategory in subcategories:\n",
    "        subcategory_path = glob(directory+\"\\\\\" +category +\"\\\\\" + subcategory +'\\*')\n",
    "        pdf_num = 0\n",
    "        for pdf_path in subcategory_path:\n",
    "            pdfName = os.listdir(directory+\"\\\\\" +category + \"\\\\\" +subcategory)[pdf_num].replace(\".pdf\",\"\")\n",
    "            pdf_num +=1\n",
    "            print(category_num,pdf_num, pdfName)"
   ]
  },
  {
   "cell_type": "code",
   "execution_count": 9,
   "metadata": {},
   "outputs": [
    {
     "name": "stdout",
     "output_type": "stream",
     "text": [
      "1 10507\n",
      "2 17ACT_CyberGuide\n",
      "3 cyberpolicy\n",
      "4 Cybersecurity-EU agency and certification framework.en\n",
      "error: 4 FINAL_written_statement_for_ IT_ hearing_February_26_edit_v2\n",
      "5 FINAL_written_statement_for_ IT_ hearing_February_26_edit_v2\n",
      "error: 0 A Human Capital Crisis in Cybersecurity\n",
      "1 A Human Capital Crisis in Cybersecurity\n",
      "2 cybersecurity_workforce_development_toolkit\n",
      "3 cyber_games-_building_future_workforce_final_1031a_lr\n",
      "error: 3 DRM-2016-U-013905-Final\n",
      "4 DRM-2016-U-013905-Final\n",
      "5 Federal Efforts Are Under\n",
      "6 NIST.SP.800-181\n",
      "error: 6 RAND_RR430\n",
      "7 RAND_RR430\n",
      "8 Strategic Recruitment for Cybersecurity Model July 2017\n",
      "9 untitled\n",
      "1 4471_security_certifications\n",
      "2 Cybersecurity-Professional_bro_Eng_0415\n",
      "3 ESG-ISSA-Research-Report-Lif\n",
      "4 IETEducationTraining\n",
      "5 JISEv28n2p101\n",
      "6 Professionalizing-Cybersecurity\n",
      "7 SGS_TUEV_Training_Cyber_Security_EN_0617\n",
      "8 veterans_guide_trackDocs=veterans_guide\n",
      "1 cybersecurity policy making\n",
      "2 Ikonoumou_ENISA\n",
      "3 InternationalCyberNorms_Ch11\n",
      "4 Stan_Johnson_NERC_Cyber_Security_Standards\n",
      "1 A Crazy Cyber World Construction of a Composite Index for Measuring Child Online Protection\n",
      "2 GUIDELINES FOR INDUSTRY ON CHILD ONLINE PROTECTION\n",
      "1 A POLICY BRIEF CHILD ONLINE PROTECTION IN GHANA\n",
      "2 Mapping Online Child Safety in Asia-Pacific\n",
      "1 Inquiry into Cyber Safety Issues Affecting Children and Young People\n",
      "2 The Protection of Children Online\n",
      "1 Guidelines for Children on Child Online Protection\n",
      "1 Cyber Threats and International Cooperation\n",
      "error: 1 International Strategy on Cybersecurity Cooperation\n",
      "2 International Strategy on Cybersecurity Cooperation\n",
      "3 international_strategy_for_cyberspace\n",
      "1 Inter-Agency Cooperation - Defense Technical Information Center\n",
      "2 Interagency Cooperation on Cyber Security\n",
      "1 A Theory of Interstate Security Cooperation Applied to German-American Relations\n",
      "2 Cyber_Workshop_Rapporteur_Note_4-14\n",
      "1 Cybersecurity in the Health Care Sector_Strengthening Public-Private Partnerships\n",
      "2 Cybersecurity Public Private Partnerships - American Bar Association\n",
      "3 Improving our Nation's Cybersecurity through the Public-Private Partnership\n",
      "4 Public-private partnerships in national cyber-security strategies\n",
      "5 Public-Private Partnerships_Essential for National Cyber Security\n",
      "1 Cybercrime legislation EV6\n",
      "2 Legal Aspects of Cybersecurity\n",
      "3 Prosecuting Computer Crimes - Department of Justice\n",
      "1 Financial Sector’s Cybersecurity_A Regulatory Digest\n",
      "2 New-Yorks-Cybersecurity-Regulations-for-Financial-Insitutions-and-Health-Care_Bloomberg-Law1\n",
      "3 regulatory compliance and cybersecurity\n",
      "1 BENCHMARKING ESTONIA’S CYBER SECURITY_AN ON-RAMPING METHODOLOGY FOR RAPID ADOPTION AND IMPLEMENTATION\n",
      "2 ENISA Guidebook on National Cyber Security Strategies\n",
      "3 Samoa National Cybersecurity Strategy 2016\n",
      "4 The UK cyber security strategy - National Audit Office\n",
      "1 Cyber Security Planning Guide - Homeland Security\n",
      "2 Cybersecurity Policy Making at a Turning Point\n",
      "3 cybersecurity policy\n",
      "4 Information Technology Cyber Security Policy\n",
      "1 CYBERSECURITY_DIVISION OF RESPONSIBILITY IN THE U.S. GOVERNMENT\n",
      "2 Leadership and Responsibility for Cybersecurity\n",
      "3 United States Government Cybersecurity Relationships\n",
      "4 Who Should Lead U.S. Cybersecurity Efforts\n",
      "error: 0 Cyber Security Governance\n",
      "1 Cyber Security Governance\n",
      "2 Draft NIST Roadmap for Improving Critical Infrastructure Cybersecurity\n",
      "3 Governance of Cybersecurity_2015 Report\n",
      "4 The Definitive Cybersecurity Guide for Directors and Officers\n",
      "1 A practical guide to IT security\n",
      "2 A Summary of Cybersecurity Best Practices - Homeland Security\n",
      "3 Minimum security measures\n",
      "1 Cybersecurity for Critical Infrastructure_ Attack and Defense Modeling\n",
      "2 EXAMINING THE CYBER THREAT TO CRITICAL INFRASTRUCTURE AND THE AMERICAN ECONOMY\n",
      "3 Italian Cyber Security Report Critical Infrastructure and Other Sensitive Sectors Readiness\n",
      "1 10 Basic Cybersecurity Measures Best Practices to Reduce Exploitable Weaknesses and Attacks\n",
      "2 Cyber Security Standards\n"
     ]
    }
   ],
   "source": [
    "for category in categoryList:\n",
    "    category_path = glob(directory+\"\\\\\" +category)\n",
    "    subcategories = os.listdir(directory+\"\\\\\" +category)\n",
    "    for subcategory in subcategories:\n",
    "        subcategory_path = glob(directory+\"\\\\\" +category +\"\\\\\" + subcategory +'\\*')\n",
    "        pdf_num = 0\n",
    "        for pdf_path in subcategory_path:\n",
    "            pdfName = os.listdir(directory+\"\\\\\" +category + \"\\\\\" +subcategory)[pdf_num].replace(\".pdf\",\"\")\n",
    "            try: \n",
    "                text = convert_pdf_to_txt(pdf_path)\n",
    "            except:\n",
    "                print(\"error:\" , pdf_num, pdfName)\n",
    "            \n",
    "            outputfilename = outputTXTdirectory+\"\\\\\"+ category + \"\\\\\" +subcategory +\"\\\\\"+pdfName+ \".txt\"\n",
    "            if not os.path.exists(outputTXTdirectory+\"\\\\\"+ category + \"\\\\\" +subcategory):\n",
    "                os.makedirs(outputTXTdirectory+\"\\\\\"+ category + \"\\\\\" +subcategory)  \n",
    "            with open(outputfilename, 'w',encoding='utf-8') as f:\n",
    "                f.write(text)\n",
    "                f.close()\n",
    "            pdf_num +=1\n",
    "            print(pdf_num, pdfName)"
   ]
  },
  {
   "cell_type": "code",
   "execution_count": null,
   "metadata": {
    "collapsed": true
   },
   "outputs": [],
   "source": []
  },
  {
   "cell_type": "code",
   "execution_count": null,
   "metadata": {
    "collapsed": true
   },
   "outputs": [],
   "source": []
  },
  {
   "cell_type": "code",
   "execution_count": null,
   "metadata": {
    "collapsed": true
   },
   "outputs": [],
   "source": []
  },
  {
   "cell_type": "code",
   "execution_count": null,
   "metadata": {
    "collapsed": true
   },
   "outputs": [],
   "source": []
  },
  {
   "cell_type": "code",
   "execution_count": null,
   "metadata": {
    "collapsed": true
   },
   "outputs": [],
   "source": []
  }
 ],
 "metadata": {
  "kernelspec": {
   "display_name": "Python 3",
   "language": "python",
   "name": "python3"
  },
  "language_info": {
   "codemirror_mode": {
    "name": "ipython",
    "version": 3
   },
   "file_extension": ".py",
   "mimetype": "text/x-python",
   "name": "python",
   "nbconvert_exporter": "python",
   "pygments_lexer": "ipython3",
   "version": "3.6.3"
  }
 },
 "nbformat": 4,
 "nbformat_minor": 2
}
