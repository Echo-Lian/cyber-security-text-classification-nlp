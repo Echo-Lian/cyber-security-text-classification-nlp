{
 "cells": [
  {
   "cell_type": "code",
   "execution_count": 86,
   "metadata": {},
   "outputs": [],
   "source": [
    "import time\n",
    "import urllib\n",
    "import os\n",
    "import sys\n",
    "import requests\n",
    "from time import sleep\n",
    "from selenium import webdriver\n",
    "from selenium.webdriver.common.keys import Keys"
   ]
  },
  {
   "cell_type": "code",
   "execution_count": 87,
   "metadata": {},
   "outputs": [],
   "source": [
    "#search for Cyber Security Certifications PDF\n",
    "driver = webdriver.Firefox(executable_path=r'D:\\geckodriver.exe')\n",
    "d = webdriver.Firefox()\n",
    "d.get('http://google.com')\n",
    "search_bx = d.find_element_by_name('q')\n",
    "search_bx.send_keys('CYBER SECURITY CERTIFICATION PDF')\n",
    "search_bx.send_keys(Keys.RETURN)\n",
    "index = 0\n",
    "links = []\n",
    "urls = d.find_elements_by_css_selector('h3.r a')\n",
    "time.sleep(2)"
   ]
  },
  {
   "cell_type": "code",
   "execution_count": 88,
   "metadata": {},
   "outputs": [],
   "source": [
    "for l in urls:\n",
    "    links.append(l.get_attrivute('href'))\n",
    "    l.get_attribute('href')"
   ]
  },
  {
   "cell_type": "code",
   "execution_count": 89,
   "metadata": {},
   "outputs": [
    {
     "name": "stdout",
     "output_type": "stream",
     "text": [
      "['https://www.techrepublic.com/resource-library/whitepapers/how-to-build-a-successful-career-in-cybersecurity-free-pdf/', 'https://cybersecurity.isaca.org/csx-resources/cybersecurity-fundamentals-study-guide', 'https://www.isaca.org/cyber/Documents/state-of-cybersecurity_res_eng_0316.pdf', 'http://europa.eu/rapid/attachment/IP-17-3193/en/Cybersecurity-EU%20agency%20and%20certification%20framework.en.pdf', 'http://www.ecs-org.eu/documents/uploads/european-cyber-security-certification-a-meta-scheme-approach.pdf', 'https://certification.comptia.org/docs/default-source/downloadablefiles/it-certification-roadmap.pdf', 'http://www.auburn.edu/~carrhou/pdf/securityplus.pdf', 'https://www.researchgate.net/publication/296686185_Game_Based_Cyber_Security_Training_are_Serious_Games_suitable_for_cyber_security_training', 'http://www.puc.pa.gov/general/pdf/Cybersecurity_Best_Practices_Booklet.pdf', 'https://media.kaspersky.com/en/business-security/enterprise/Kaspersky_Security_Intelligence_Services_Cybersecurity_training.pdf', 'https://www.cisco.com/c/dam/en_us/training-events/certifications/shared/docs/sec_oView_dSheet.pdf', 'http://go.kaspersky.com/rs/kaspersky1/images/Top_10_Tips_For_Educating_Employees_About_Cybersecurity_eBook.pdf?mkt_tok=3RkMMJWWfF9wsRonuKXNcO%2FhmjTEU5z16OglWa%2BzlMI%2F0ER3fOvrPUfGjI4ITMZjI%2BSLDwEYGJlv6SgFQrDHMalq1LgPXxE%3D', 'http://www.hkma.gov.hk/media/eng/doc/key-information/guidelines-and-circular/2016/20161219e1.pdf', 'https://www.ncsc.gov.uk/content/files/protected_files/document_files/GCT%20scheme%20-%20Course%20Content%20Criteria%20v2%200.pdf', 'https://www.hhs.gov/about/agencies/asa/ocio/cybersecurity/security-awareness-training/index.html', 'https://www.nist.gov/document-11242', 'http://www.iata.org/publications/store/Pages/aviation-cyber-security-toolkit.aspx', 'https://www.austrade.gov.au/ArticleDocuments/1358/Cyber%20security%20ICR.pdf.aspx', 'https://www.belfercenter.org/sites/default/files/files/publication/Playbook%201.3.pdf', 'https://www.pcisecuritystandards.org/documents/PCI_DSS_V1.0_Best_Practices_for_Implementing_Security_Awareness_Program.pdf', 'http://new.sonarplusd.com/cyber_information_security_awareness_training_for_the_uk.pdf', 'https://fedvte.usalearning.gov/pdf/FedVTE_Training_Catalog.pdf', 'https://www.acm.org/binaries/content/assets/education/curricula-recommendations/csec2017.pdf', 'https://www.sec.gov/files/observations-from-cybersecurity-examinations.pdf', 'https://www.devry.edu/d/cyber-security-program-guide.pdf', 'https://www.sans.org/security-training/roadmap.pdf', 'https://assets.kpmg.com/content/dam/kpmg/cn/pdf/en/2017/02/overview-of-cybersecurity-law.pdf', 'http://www.ncsl.org/documents/statefed/state_cybertraining_Final.pdf', 'http://www.cis.syr.edu/~sueo/papers/ace-wecs.pdf', 'http://doit.maryland.gov/support/Documents/security_guidelines/CA_Guidelines.pdf']\n"
     ]
    }
   ],
   "source": [
    "while index <= 2:\n",
    "    next_page = d.find_element_by_css_selector('#pnnext')\n",
    "    next_page.click()\n",
    "    urls = d.find_elements_by_css_selector('h3.r a')\n",
    "    for l in urls:\n",
    "        links.append(l.get_attribute('href'))\n",
    "        l.get_attribute('href')\n",
    "    index = index +1\n",
    "print(links)"
   ]
  },
  {
   "cell_type": "code",
   "execution_count": 90,
   "metadata": {},
   "outputs": [
    {
     "name": "stdout",
     "output_type": "stream",
     "text": [
      "['https://www.isaca.org/cyber/Documents/state-of-cybersecurity_res_eng_0316.pdf', 'http://europa.eu/rapid/attachment/IP-17-3193/en/Cybersecurity-EU%20agency%20and%20certification%20framework.en.pdf', 'http://www.ecs-org.eu/documents/uploads/european-cyber-security-certification-a-meta-scheme-approach.pdf', 'https://certification.comptia.org/docs/default-source/downloadablefiles/it-certification-roadmap.pdf', 'http://www.auburn.edu/~carrhou/pdf/securityplus.pdf', 'http://www.puc.pa.gov/general/pdf/Cybersecurity_Best_Practices_Booklet.pdf', 'https://media.kaspersky.com/en/business-security/enterprise/Kaspersky_Security_Intelligence_Services_Cybersecurity_training.pdf', 'https://www.cisco.com/c/dam/en_us/training-events/certifications/shared/docs/sec_oView_dSheet.pdf', 'http://go.kaspersky.com/rs/kaspersky1/images/Top_10_Tips_For_Educating_Employees_About_Cybersecurity_eBook.pdf?mkt_tok=3RkMMJWWfF9wsRonuKXNcO%2FhmjTEU5z16OglWa%2BzlMI%2F0ER3fOvrPUfGjI4ITMZjI%2BSLDwEYGJlv6SgFQrDHMalq1LgPXxE%3D', 'http://www.hkma.gov.hk/media/eng/doc/key-information/guidelines-and-circular/2016/20161219e1.pdf', 'https://www.ncsc.gov.uk/content/files/protected_files/document_files/GCT%20scheme%20-%20Course%20Content%20Criteria%20v2%200.pdf', 'https://www.austrade.gov.au/ArticleDocuments/1358/Cyber%20security%20ICR.pdf.aspx', 'https://www.belfercenter.org/sites/default/files/files/publication/Playbook%201.3.pdf', 'https://www.pcisecuritystandards.org/documents/PCI_DSS_V1.0_Best_Practices_for_Implementing_Security_Awareness_Program.pdf', 'http://new.sonarplusd.com/cyber_information_security_awareness_training_for_the_uk.pdf', 'https://fedvte.usalearning.gov/pdf/FedVTE_Training_Catalog.pdf', 'https://www.acm.org/binaries/content/assets/education/curricula-recommendations/csec2017.pdf', 'https://www.sec.gov/files/observations-from-cybersecurity-examinations.pdf', 'https://www.devry.edu/d/cyber-security-program-guide.pdf', 'https://www.sans.org/security-training/roadmap.pdf', 'https://assets.kpmg.com/content/dam/kpmg/cn/pdf/en/2017/02/overview-of-cybersecurity-law.pdf', 'http://www.ncsl.org/documents/statefed/state_cybertraining_Final.pdf', 'http://www.cis.syr.edu/~sueo/papers/ace-wecs.pdf', 'http://doit.maryland.gov/support/Documents/security_guidelines/CA_Guidelines.pdf']\n"
     ]
    }
   ],
   "source": [
    "pdfs=[]\n",
    "for i in links:\n",
    "    if '.pdf' in i:\n",
    "        pdfs.append(i)\n",
    "print(pdfs)"
   ]
  },
  {
   "cell_type": "code",
   "execution_count": 91,
   "metadata": {},
   "outputs": [
    {
     "data": {
      "text/plain": [
       "24"
      ]
     },
     "execution_count": 91,
     "metadata": {},
     "output_type": "execute_result"
    }
   ],
   "source": [
    "len(pdfs)"
   ]
  },
  {
   "cell_type": "code",
   "execution_count": 92,
   "metadata": {},
   "outputs": [],
   "source": [
    "#Here we download the most relevant 10 files\n",
    "response = requests.get(pdfs[1])\n",
    "with open('Certification1', 'wb') as f:\n",
    "    f.write(response.content)"
   ]
  },
  {
   "cell_type": "code",
   "execution_count": 93,
   "metadata": {
    "collapsed": true
   },
   "outputs": [],
   "source": [
    "response = requests.get(pdfs[2])\n",
    "with open('Certification2', 'wb') as f:\n",
    "    f.write(response.content)"
   ]
  },
  {
   "cell_type": "code",
   "execution_count": 94,
   "metadata": {
    "collapsed": true
   },
   "outputs": [],
   "source": [
    "response = requests.get(pdfs[3])\n",
    "with open('Certification3', 'wb') as f:\n",
    "    f.write(response.content)"
   ]
  },
  {
   "cell_type": "code",
   "execution_count": 95,
   "metadata": {
    "collapsed": true
   },
   "outputs": [],
   "source": [
    "response = requests.get(pdfs[4])\n",
    "with open('Certification4', 'wb') as f:\n",
    "    f.write(response.content)"
   ]
  },
  {
   "cell_type": "code",
   "execution_count": 96,
   "metadata": {
    "collapsed": true
   },
   "outputs": [],
   "source": [
    "response = requests.get(pdfs[5])\n",
    "with open('Certification5', 'wb') as f:\n",
    "    f.write(response.content)"
   ]
  },
  {
   "cell_type": "code",
   "execution_count": 97,
   "metadata": {
    "collapsed": true
   },
   "outputs": [],
   "source": [
    "response = requests.get(pdfs[6])\n",
    "with open('Certification6', 'wb') as f:\n",
    "    f.write(response.content)"
   ]
  },
  {
   "cell_type": "code",
   "execution_count": 98,
   "metadata": {
    "collapsed": true
   },
   "outputs": [],
   "source": [
    "response = requests.get(pdfs[7])\n",
    "with open('Certification7', 'wb') as f:\n",
    "    f.write(response.content)"
   ]
  },
  {
   "cell_type": "code",
   "execution_count": 99,
   "metadata": {
    "collapsed": true
   },
   "outputs": [],
   "source": [
    "response = requests.get(pdfs[8])\n",
    "with open('Certification8', 'wb') as f:\n",
    "    f.write(response.content)"
   ]
  },
  {
   "cell_type": "code",
   "execution_count": 100,
   "metadata": {
    "collapsed": true
   },
   "outputs": [],
   "source": [
    "response = requests.get(pdfs[9])\n",
    "with open('Certification9', 'wb') as f:\n",
    "    f.write(response.content)"
   ]
  },
  {
   "cell_type": "code",
   "execution_count": 101,
   "metadata": {
    "collapsed": true
   },
   "outputs": [],
   "source": [
    "response = requests.get(pdfs[10])\n",
    "with open('Certification10', 'wb') as f:\n",
    "    f.write(response.content)"
   ]
  },
  {
   "cell_type": "code",
   "execution_count": null,
   "metadata": {
    "collapsed": true
   },
   "outputs": [],
   "source": []
  }
 ],
 "metadata": {
  "kernelspec": {
   "display_name": "Python 3",
   "language": "python",
   "name": "python3"
  },
  "language_info": {
   "codemirror_mode": {
    "name": "ipython",
    "version": 3
   },
   "file_extension": ".py",
   "mimetype": "text/x-python",
   "name": "python",
   "nbconvert_exporter": "python",
   "pygments_lexer": "ipython3",
   "version": "3.6.3"
  }
 },
 "nbformat": 4,
 "nbformat_minor": 2
}
